{
  "cells": [
    {
      "cell_type": "code",
      "source": [
        "from functools import lru_cache\n",
        "\n",
        "consumo = [5, 4, 6, 3, 7]\n",
        "max_estoque = 15\n",
        "custo_estoque = 1\n",
        "custo_pedido = 5\n",
        "custo_falta = 10\n",
        "estoque_inicial = 10\n",
        "\n",
        "@lru_cache(maxsize=None)\n",
        "def dp(dia, estoque):\n",
        "    if dia == len(consumo):\n",
        "        return 0\n",
        "\n",
        "    custo_hoje = estoque * custo_estoque\n",
        "\n",
        "    falta = max(0, consumo[dia] - estoque)\n",
        "    custo_falta_total = falta * custo_falta\n",
        "\n",
        "    novo_estoque = max(0, estoque - consumo[dia])\n",
        "\n",
        "    custo_sem_pedido = custo_hoje + custo_falta_total + dp(dia + 1, novo_estoque)\n",
        "\n",
        "    custos_com_pedido = [custo_hoje + custo_pedido + q + dp(dia + 1, min(max_estoque, estoque + q - consumo[dia]))\n",
        "        for q in range(1, max_estoque - estoque + 1)\n",
        "    ]\n",
        "\n",
        "    return min([custo_sem_pedido] + custos_com_pedido)\n",
        "\n",
        "custo_minimo = dp(0, estoque_inicial)\n",
        "print(f\"Custo mínimo total: {custo_minimo}\")\n"
      ],
      "metadata": {
        "id": "L2fw5Dc8OLNX",
        "outputId": "2d692cda-648d-432e-845b-863508e7bda3",
        "colab": {
          "base_uri": "https://localhost:8080/"
        }
      },
      "execution_count": null,
      "outputs": [
        {
          "output_type": "stream",
          "name": "stdout",
          "text": [
            "Custo mínimo total: 24\n"
          ]
        }
      ]
    }
  ],
  "metadata": {
    "colab": {
      "toc_visible": true,
      "provenance": []
    },
    "kernelspec": {
      "display_name": "Python 3",
      "name": "python3"
    }
  },
  "nbformat": 4,
  "nbformat_minor": 0
}