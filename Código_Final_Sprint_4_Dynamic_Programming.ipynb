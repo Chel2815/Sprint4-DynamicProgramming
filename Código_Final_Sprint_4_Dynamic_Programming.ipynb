{
  "cells": [
    {
      "cell_type": "code",
      "source": [
        "from functools import lru_cache\n",
        "from typing import List\n",
        "\n",
        "def custo_imediato(estoque: int, q: int, dia: int, consumo: List[int], c_estoque: int, c_pedido: int, c_falta: int) -> int:\n",
        "    falta = max(0, consumo[dia] - (estoque + q))\n",
        "    custo = estoque * c_estoque\n",
        "    if q > 0:\n",
        "        custo += c_pedido\n",
        "    custo += falta * c_falta\n",
        "    return custo\n",
        "\n",
        "def dp_rec_puro(dia: int, estoque: int, consumo: List[int], max_cap: int, c_estoque: int, c_pedido: int, c_falta: int) -> int:\n",
        "    if dia == len(consumo):\n",
        "        return 0\n",
        "    best = float('inf')\n",
        "    # decisão: q de 0 até caber no estoque\n",
        "    for q in range(0, max_cap - estoque + 1):\n",
        "        estp = min(max_cap, max(0, estoque + q - consumo[dia]))\n",
        "        best = min(best, custo_imediato(estoque, q, dia, consumo, c_estoque, c_pedido, c_falta) +\n",
        "                   dp_rec_puro(dia+1, estp, consumo, max_cap, c_estoque, c_pedido, c_falta))\n",
        "    return int(best)\n",
        "\n",
        "def make_dp_rec_memo(consumo: List[int], max_cap: int, c_estoque: int, c_pedido: int, c_falta: int):\n",
        "    @lru_cache(maxsize=None)\n",
        "    def _dp(dia: int, estoque: int) -> int:\n",
        "        if dia == len(consumo):\n",
        "            return 0\n",
        "        best = float('inf')\n",
        "        for q in range(0, max_cap - estoque + 1):\n",
        "            estp = min(max_cap, max(0, estoque + q - consumo[dia]))\n",
        "            best = min(best, custo_imediato(estoque, q, dia, consumo, c_estoque, c_pedido, c_falta) +\n",
        "                       _dp(dia+1, estp))\n",
        "        return int(best)\n",
        "    return _dp\n",
        "\n",
        "def dp_bottom_up(consumo: List[int], estoque_ini: int, max_cap: int, c_estoque: int, c_pedido: int, c_falta: int) -> int:\n",
        "    n = len(consumo)\n",
        "    dp = [[0]*(max_cap+1) for _ in range(n+1)]\n",
        "    for d in range(n-1, -1, -1):\n",
        "        for e in range(0, max_cap+1):\n",
        "            best = float('inf')\n",
        "            for q in range(0, max_cap - e + 1):\n",
        "                estp = min(max_cap, max(0, e + q - consumo[d]))\n",
        "                best = min(best, custo_imediato(e, q, d, consumo, c_estoque, c_pedido, c_falta) + dp[d+1][estp])\n",
        "            dp[d][e] = int(best)\n",
        "    return dp[0][estoque_ini]\n",
        "\n",
        "def exemplo():\n",
        "    # Exemplo didático que deve constar no relatório\n",
        "    consumo     = [5, 4, 6, 3, 7]  # demanda/consumo por dia\n",
        "    max_cap     = 15               # capacidade máxima de estoque\n",
        "    c_estoque   = 1                # custo por unidade mantida em estoque ao final do dia\n",
        "    c_pedido    = 5                # custo fixo por efetuar pedido (se q>0)\n",
        "    c_falta     = 10               # penalidade por unidade em falta no dia\n",
        "    estoque_ini = 10               # estoque inicial\n",
        "\n",
        "    # 1) recursiva pura\n",
        "    res_puro = dp_rec_puro(0, estoque_ini, consumo, max_cap, c_estoque, c_pedido, c_falta)\n",
        "\n",
        "    # 2) recursiva com memoização\n",
        "    dp_memo = make_dp_rec_memo(tuple(consumo), max_cap, c_estoque, c_pedido, c_falta)  # consumo como tupla p/ cache\n",
        "    res_memo = dp_memo(0, estoque_ini)\n",
        "\n",
        "    # 3) bottom-up\n",
        "    res_bu = dp_bottom_up(consumo, estoque_ini, max_cap, c_estoque, c_pedido, c_falta)\n",
        "\n",
        "    print(\"Resultados equivalentes das três abordagens:\")\n",
        "    print(\"Recursiva pura :\", res_puro)\n",
        "    print(\"Recursiva memo :\", res_memo)\n",
        "    print(\"Bottom-up      :\", res_bu)\n",
        "\n",
        "    assert res_puro == res_memo == res_bu, \"As três abordagens devem produzir o mesmo custo ótimo.\"\n",
        "\n",
        "if __name__ == \"__main__\":\n",
        "    exemplo()"
      ],
      "metadata": {
        "colab": {
          "base_uri": "https://localhost:8080/"
        },
        "id": "QzbJqDxAToZM",
        "outputId": "ade6d1f0-7311-4b38-a33c-2ebb1b4e6a8c"
      },
      "execution_count": 3,
      "outputs": [
        {
          "output_type": "stream",
          "name": "stdout",
          "text": [
            "Resultados equivalentes das três abordagens:\n",
            "Recursiva pura : 29\n",
            "Recursiva memo : 29\n",
            "Bottom-up      : 29\n"
          ]
        }
      ]
    }
  ],
  "metadata": {
    "colab": {
      "toc_visible": true,
      "provenance": []
    },
    "kernelspec": {
      "display_name": "Python 3",
      "name": "python3"
    }
  },
  "nbformat": 4,
  "nbformat_minor": 0
}